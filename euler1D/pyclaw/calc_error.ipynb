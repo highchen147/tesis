{
 "cells": [
  {
   "cell_type": "code",
   "execution_count": 41,
   "metadata": {},
   "outputs": [],
   "source": [
    "import pandas as pd\n",
    "import numpy as np\n",
    "\n",
    "def rmse(x: pd.Series, y:pd.Series):\n",
    "    n = x.shape[0]\n",
    "    dif_sq = (x.values - y.values)**2\n",
    "    sum = np.sum(dif_sq)/n\n",
    "    return np.sqrt(sum)\n",
    "\n",
    "def rms(x: pd.Series):\n",
    "    x_sq = x.values**2\n",
    "    return np.sqrt(sum(x_sq)/x.shape[0])\n",
    "\n",
    "set1 = pd.read_csv(\"..\\\\data_cpp_y_pyclaw\\\\set1.csv\", sep=\",\")\n",
    "\n",
    "\n",
    "result1 = (set1.groupby('Instante')\n",
    "           .agg({'rho': lambda x: rmse(x, set1.loc[x.index, 'densidad_py']),\n",
    "                 \"u\": lambda x: rmse(x, set1.loc[x.index, 'velocidad_py']),\n",
    "                 \"p\": lambda x: rmse(x, set1.loc[x.index, 'presion_py'])})\n",
    "           .rename(columns={x: x+\"_rmse\" for x in (\"rho\", \"u\",\"p\")}))\n",
    "\n",
    "result_final1 = pd.DataFrame(data={\"rho\": [rms(result1[\"rho_rmse\"]), (set1[\"rho\"]-set1[\"densidad_py\"]).max()], \n",
    "                                   \"u\": [rms(result1[\"u_rmse\"]), (set1[\"u\"]-set1[\"velocidad_py\"]).max()],\n",
    "                                   \"p\": [rms(result1[\"p_rmse\"]), (set1[\"p\"]-set1[\"presion_py\"]).max()]}, \n",
    "                             index=[\"RMSE\", \"MAXERROR\"])"
   ]
  },
  {
   "cell_type": "code",
   "execution_count": 42,
   "metadata": {},
   "outputs": [],
   "source": [
    "set2 = pd.read_csv(\"..\\\\data_cpp_y_pyclaw\\\\set2.csv\", sep=\",\")\n",
    "\n",
    "\n",
    "result2 = (set2.groupby('Instante')\n",
    "           .agg({'rho': lambda x: rmse(x, set2.loc[x.index, 'densidad_py']),\n",
    "                 \"u\": lambda x: rmse(x, set2.loc[x.index, 'velocidad_py']),\n",
    "                 \"p\": lambda x: rmse(x, set2.loc[x.index, 'presion_py'])})\n",
    "           .rename(columns={x: x+\"_rmse\" for x in (\"rho\", \"u\",\"p\")}))\n",
    "\n",
    "result_final2 = pd.DataFrame(data={\"rho\": [rms(result2[\"rho_rmse\"]), (set2[\"rho\"]-set2[\"densidad_py\"]).max()], \n",
    "                                   \"u\": [rms(result2[\"u_rmse\"]), (set2[\"u\"]-set2[\"velocidad_py\"]).max()],\n",
    "                                   \"p\": [rms(result2[\"p_rmse\"]), (set2[\"p\"]-set2[\"presion_py\"]).max()]}, \n",
    "                             index=[\"RMSE\", \"MAXERROR\"])"
   ]
  },
  {
   "cell_type": "code",
   "execution_count": 43,
   "metadata": {},
   "outputs": [
    {
     "data": {
      "text/html": [
       "<div>\n",
       "<style scoped>\n",
       "    .dataframe tbody tr th:only-of-type {\n",
       "        vertical-align: middle;\n",
       "    }\n",
       "\n",
       "    .dataframe tbody tr th {\n",
       "        vertical-align: top;\n",
       "    }\n",
       "\n",
       "    .dataframe thead th {\n",
       "        text-align: right;\n",
       "    }\n",
       "</style>\n",
       "<table border=\"1\" class=\"dataframe\">\n",
       "  <thead>\n",
       "    <tr style=\"text-align: right;\">\n",
       "      <th></th>\n",
       "      <th>t</th>\n",
       "      <th>x</th>\n",
       "      <th>rho</th>\n",
       "      <th>Instante</th>\n",
       "      <th>u</th>\n",
       "      <th>p</th>\n",
       "      <th>Celda</th>\n",
       "      <th>densidad_py</th>\n",
       "      <th>velocidad_py</th>\n",
       "      <th>presion_py</th>\n",
       "      <th>t_py</th>\n",
       "      <th>x_py</th>\n",
       "    </tr>\n",
       "  </thead>\n",
       "  <tbody>\n",
       "    <tr>\n",
       "      <th>250</th>\n",
       "      <td>0.0</td>\n",
       "      <td>5.0</td>\n",
       "      <td>3.0</td>\n",
       "      <td>1</td>\n",
       "      <td>0.0</td>\n",
       "      <td>3.0</td>\n",
       "      <td>251</td>\n",
       "      <td>1.0</td>\n",
       "      <td>0.0</td>\n",
       "      <td>1.0</td>\n",
       "      <td>0.0</td>\n",
       "      <td>5.0</td>\n",
       "    </tr>\n",
       "  </tbody>\n",
       "</table>\n",
       "</div>"
      ],
      "text/plain": [
       "       t    x  rho  Instante    u    p  Celda  densidad_py  velocidad_py  \\\n",
       "250  0.0  5.0  3.0         1  0.0  3.0    251          1.0           0.0   \n",
       "\n",
       "     presion_py  t_py  x_py  \n",
       "250         1.0   0.0   5.0  "
      ]
     },
     "execution_count": 43,
     "metadata": {},
     "output_type": "execute_result"
    }
   ],
   "source": [
    "set2.query(\"p - presion_py == 2\")"
   ]
  }
 ],
 "metadata": {
  "kernelspec": {
   "display_name": "Python 3",
   "language": "python",
   "name": "python3"
  },
  "language_info": {
   "codemirror_mode": {
    "name": "ipython",
    "version": 3
   },
   "file_extension": ".py",
   "mimetype": "text/x-python",
   "name": "python",
   "nbconvert_exporter": "python",
   "pygments_lexer": "ipython3",
   "version": "3.9.0"
  }
 },
 "nbformat": 4,
 "nbformat_minor": 2
}
