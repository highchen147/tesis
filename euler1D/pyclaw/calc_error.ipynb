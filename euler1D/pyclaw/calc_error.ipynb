{
 "cells": [
  {
   "cell_type": "code",
   "execution_count": 57,
   "metadata": {},
   "outputs": [],
   "source": [
    "import pandas as pd\n",
    "import numpy as np\n",
    "\n",
    "def rmse(x: pd.Series, y:pd.Series):\n",
    "    n = x.shape[0]\n",
    "    dif_sq = (x.values - y.values)**2\n",
    "    sum = np.sum(dif_sq)/n\n",
    "    return np.sqrt(sum)\n",
    "\n",
    "def rms(x: pd.Series):\n",
    "    x_sq = x.values**2\n",
    "    return np.sqrt(sum(x_sq)/x.shape[0])\n",
    "\n",
    "set1 = pd.read_csv(\"..\\\\data_cpp_y_pyclaw\\\\set1.csv\", sep=\",\")\n",
    "\n",
    "\n",
    "result1 = (set1.groupby('Instante')\n",
    "           .agg({'rho': lambda x: rmse(x, set1.loc[x.index, 'densidad_py']),\n",
    "                 \"u\": lambda x: rmse(x, set1.loc[x.index, 'velocidad_py']),\n",
    "                 \"p\": lambda x: rmse(x, set1.loc[x.index, 'presion_py'])})\n",
    "           .rename(columns={x: x+\"_rmse\" for x in (\"rho\", \"u\",\"p\")}))\n",
    "\n",
    "result_final1 = (pd.DataFrame(data={\"rho\": [rms(result1[\"rho_rmse\"]), abs(set1[\"rho\"]-set1[\"densidad_py\"]).max()], \n",
    "                                   \"u\": [rms(result1[\"u_rmse\"]), (set1[\"u\"]-set1[\"velocidad_py\"]).max()],\n",
    "                                   \"p\": [rms(result1[\"p_rmse\"]), (set1[\"p\"]-set1[\"presion_py\"]).max()]}, \n",
    "                             index=[\"RMSE\", \"Error máximo\"])\n",
    "                             .apply(round, axis=1, args=(8,))\n",
    "                             .applymap(lambda x: \"{:.1e}\".format(x))\n",
    "                             .reset_index(names=[\".\"])\n",
    "                             .rename(columns={\".\" : \"Resultados\",\n",
    "                                              \"rho\": r\"$\\rho$\",\n",
    "                                              \"u\": r\"$u$\",\n",
    "                                              \"p\": r\"$p$\"}))\n",
    "result_final1 = result_final1.style.hide(names=False)\n",
    "result_final1.to_latex(buf=\"tablas_error\\\\t1.tex\")"
   ]
  },
  {
   "cell_type": "code",
   "execution_count": 56,
   "metadata": {},
   "outputs": [],
   "source": [
    "set2 = pd.read_csv(\"..\\\\data_cpp_y_pyclaw\\\\set2.csv\", sep=\",\")\n",
    "\n",
    "\n",
    "result2 = (set2.groupby('Instante')\n",
    "           .agg({'rho': lambda x: rmse(x, set2.loc[x.index, 'densidad_py']),\n",
    "                 \"u\": lambda x: rmse(x, set2.loc[x.index, 'velocidad_py']),\n",
    "                 \"p\": lambda x: rmse(x, set2.loc[x.index, 'presion_py'])})\n",
    "           .rename(columns={x: x+\"_rmse\" for x in (\"rho\", \"u\",\"p\")}))\n",
    "\n",
    "result_final2 = (pd.DataFrame(data={\"rho\": [rms(result2[\"rho_rmse\"]), abs(set2[\"rho\"]-set2[\"densidad_py\"]).max()], \n",
    "                                    \"u\": [rms(result2[\"u_rmse\"]), abs(set2[\"u\"]-set2[\"velocidad_py\"]).max()],\n",
    "                                    \"p\": [rms(result2[\"p_rmse\"]), abs(set2[\"p\"]-set2[\"presion_py\"]).max()]}, \n",
    "                              index=[\"RMSE\", \"Error máximo\"])\n",
    "                              .apply(round, axis=1, args=(8,))\n",
    "                              .applymap(lambda x: \"{:.1e}\".format(x))\n",
    "                              .reset_index(names=[\".\"])\n",
    "                              .rename(columns={\".\" : \"Resultados\",\n",
    "                                               \"rho\": r\"$\\rho$\",\n",
    "                                               \"u\": r\"$u$\",\n",
    "                                               \"p\": r\"$p$\"}))\n",
    "result_final2 = result_final2.style.hide(names=False)\n",
    "result_final2.to_latex(buf=\"tablas_error\\\\t2.tex\")"
   ]
  },
  {
   "cell_type": "code",
   "execution_count": 58,
   "metadata": {},
   "outputs": [],
   "source": [
    "set3 = pd.read_csv(\"..\\\\data_cpp_y_pyclaw\\\\set3.csv\", sep=\",\")\n",
    "\n",
    "\n",
    "result3 = (set3.groupby('Instante')\n",
    "           .agg({'rho': lambda x: rmse(x, set3.loc[x.index, 'densidad_py']),\n",
    "                 \"u\": lambda x: rmse(x, set3.loc[x.index, 'velocidad_py']),\n",
    "                 \"p\": lambda x: rmse(x, set3.loc[x.index, 'presion_py'])})\n",
    "           .rename(columns={x: x+\"_rmse\" for x in (\"rho\", \"u\",\"p\")}))\n",
    "\n",
    "result_final3 = (pd.DataFrame(data={\"rho\": [rms(result3[\"rho_rmse\"]), (set3[\"rho\"]-set3[\"densidad_py\"]).max()], \n",
    "                                    \"u\": [rms(result3[\"u_rmse\"]), (set3[\"u\"]-set3[\"velocidad_py\"]).max()],\n",
    "                                    \"p\": [rms(result3[\"p_rmse\"]), (set3[\"p\"]-set3[\"presion_py\"]).max()]}, \n",
    "                              index=[\"RMSE\", \"Error máximo\"])\n",
    "                              .apply(round, axis=1, args=(8,))\n",
    "                              .applymap(lambda x: \"{:.1e}\".format(x))\n",
    "                              .reset_index(names=[\".\"])\n",
    "                              .rename(columns={\".\" : \"Resultados\",\n",
    "                                               \"rho\": r\"$\\rho$\",\n",
    "                                               \"u\": r\"$u$\",\n",
    "                                               \"p\": r\"$p$\"}))\n",
    "result_final3 = result_final3.style.hide(names=False)\n",
    "result_final3.to_latex(buf=\"tablas_error\\\\t3.tex\")"
   ]
  }
 ],
 "metadata": {
  "kernelspec": {
   "display_name": "Python 3",
   "language": "python",
   "name": "python3"
  },
  "language_info": {
   "codemirror_mode": {
    "name": "ipython",
    "version": 3
   },
   "file_extension": ".py",
   "mimetype": "text/x-python",
   "name": "python",
   "nbconvert_exporter": "python",
   "pygments_lexer": "ipython3",
   "version": "3.9.0"
  }
 },
 "nbformat": 4,
 "nbformat_minor": 2
}
