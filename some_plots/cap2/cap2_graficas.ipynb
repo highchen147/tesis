{
 "cells": [
  {
   "cell_type": "code",
   "execution_count": 1,
   "metadata": {},
   "outputs": [
    {
     "data": {
      "image/png": "[encoded data removed]",
      "text/plain": [
       "<Figure size 640x480 with 1 Axes>"
      ]
     },
     "metadata": {},
     "output_type": "display_data"
    }
   ],
   "source": [
    "import matplotlib.pyplot as plt\n",
    "\n",
    "plt.rcParams['font.family'] = 'serif' \n",
    "plt.rcParams['text.usetex'] = True\n",
    "plt.rcParams['text.latex.preamble'] = r'\\usepackage{amsmath}'\n",
    "\n",
    "# Definir dimensiones de la gráfica\n",
    "alto_total = 2\n",
    "\n",
    "\n",
    "# Definir las coordenadas de los puntos de inicio y fin de cada intervalo\n",
    "intervalos = 10\n",
    "x_inicial = 0\n",
    "x_final = 10\n",
    "\n",
    "# Calcular el ancho de cada intervalo\n",
    "ancho_intervalo = (x_final - x_inicial) / intervalos\n",
    "\n",
    "# Definir dimensiones de los ticks de cada intervalo\n",
    "height_ticks = alto_total*0.04\n",
    "color_ticks = \"#0e1a8a\"\n",
    "\n",
    "# Crear la figura y el eje\n",
    "fig, ax = plt.subplots(frameon=False)\n",
    "fig.subplots_adjust(left=0, right=1, top=1, bottom=0)\n",
    "\n",
    "# Dibujar la recta horizontal\n",
    "y_pos = 0\n",
    "plt.hlines(y=y_pos, xmin=x_inicial, xmax=x_final, color='black')\n",
    "\n",
    "# Marcar los intervalos\n",
    "for i in range(intervalos + 1):\n",
    "    x_pos = x_inicial + i * ancho_intervalo\n",
    "    plt.vlines(x=x_pos, ymin=y_pos-height_ticks/2, ymax=y_pos+height_ticks/2, colors=color_ticks)\n",
    "\n",
    "x_positions = 0.07\n",
    "x_sizes = 18\n",
    "ax.annotate(r'$x_{1}$', xy=(x_inicial , y_pos+x_positions), ha='center', va='bottom', fontsize=x_sizes)\n",
    "\n",
    "y_pos_linea_h = y_pos+2.6*height_ticks\n",
    "plt.hlines(y=y_pos_linea_h, \n",
    "           xmin=2*ancho_intervalo, \n",
    "           xmax=3*ancho_intervalo, \n",
    "           color='black')\n",
    "plt.vlines(x=2*ancho_intervalo, ymin=y_pos_linea_h-height_ticks/2, ymax=y_pos_linea_h+height_ticks/2, colors=\"red\")\n",
    "plt.vlines(x=3*ancho_intervalo, ymin=y_pos_linea_h-height_ticks/2, ymax=y_pos_linea_h+height_ticks/2, colors=\"red\")\n",
    "ax.annotate(r'$h$', xy=(2.5*ancho_intervalo, y_pos_linea_h), ha='center', va='bottom', fontsize=x_sizes)\n",
    "\n",
    "ax.annotate(r'$x_{i}$', xy=(x_inicial + (5 * ancho_intervalo) , y_pos+x_positions), ha='center', va='bottom', fontsize=x_sizes)\n",
    "ax.annotate(r'$x_{i+1}$', xy=(x_inicial + (6 * ancho_intervalo) , y_pos+x_positions), ha='center', va='bottom', fontsize=x_sizes)\n",
    "ax.annotate(r'$x_{N+1}$', xy=(x_inicial + (10 * ancho_intervalo) , y_pos+x_positions), ha='center', va='bottom', fontsize=x_sizes)\n",
    "\n",
    "# Agregar las marcas a y b\n",
    "tamaño_letras = 20\n",
    "ax.annotate('a', xy=(x_inicial, y_pos-alto_total/2*0.25), ha='center', va='bottom', fontweight='bold', fontsize=tamaño_letras)\n",
    "ax.annotate('b', xy=(x_final, y_pos-alto_total/2*0.25), ha='center', va='bottom', fontweight='bold', fontsize=tamaño_letras)\n",
    "\n",
    "# Establecer límites del eje y ocultar ticks en el eje y\n",
    "ax.set_ylim(y_pos-alto_total/2, y_pos+alto_total/2)\n",
    "ax.set_xlim(-0.5, 10.5)\n",
    "ax.yaxis.set_visible(False)\n",
    "ax.xaxis.set_visible(False)\n",
    "ax.set_aspect(2.4)\n",
    "plt.savefig(f'graficas/domain.pdf', format='pdf', bbox_inches='tight')\n",
    "# Mostrar la gráfica\n",
    "plt.show()\n"
   ]
  }
 ],
 "metadata": {
  "kernelspec": {
   "display_name": "Python 3",
   "language": "python",
   "name": "python3"
  },
  "language_info": {
   "codemirror_mode": {
    "name": "ipython",
    "version": 3
   },
   "file_extension": ".py",
   "mimetype": "text/x-python",
   "name": "python",
   "nbconvert_exporter": "python",
   "pygments_lexer": "ipython3",
   "version": "3.9.0"
  },
  "orig_nbformat": 4,
  "vscode": {
   "interpreter": {
    "hash": "8a78f8cf488e3bcf49376bbaf71d0e84a8efc2be2b8abf1a02ed7431623e27f4"
   }
  }
 },
 "nbformat": 4,
 "nbformat_minor": 2
}
